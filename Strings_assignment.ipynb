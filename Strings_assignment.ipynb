{
 "cells": [
  {
   "cell_type": "code",
   "execution_count": 13,
   "id": "6c48278d",
   "metadata": {},
   "outputs": [
    {
     "data": {
      "text/plain": [
       "'string'"
      ]
     },
     "execution_count": 13,
     "metadata": {},
     "output_type": "execute_result"
    }
   ],
   "source": [
    "#1 Python program to convert a string to lower case\n",
    "\n",
    "s=\"STRING\"\n",
    "s.lower()"
   ]
  },
  {
   "cell_type": "code",
   "execution_count": 14,
   "id": "a91454c8",
   "metadata": {},
   "outputs": [
    {
     "name": "stdout",
     "output_type": "stream",
     "text": [
      "PyThOn"
     ]
    }
   ],
   "source": [
    "#2 Python program to convert only odd indexed characters to lower case\n",
    "\n",
    "s=\"PYTHON\"\n",
    "for i in range(len(s)):\n",
    "    if i%2==0:\n",
    "        print(s[i],end='')\n",
    "    else:\n",
    "        print(s[i].lower(),end='')"
   ]
  },
  {
   "cell_type": "code",
   "execution_count": 15,
   "id": "44240c43",
   "metadata": {},
   "outputs": [
    {
     "name": "stdout",
     "output_type": "stream",
     "text": [
      "pYtHoN"
     ]
    }
   ],
   "source": [
    "#3 Python program to convert only even indexed characters to lower case\n",
    "\n",
    "s=\"PYTHON\"\n",
    "for i in range(len(s)):\n",
    "    if i%2==0:\n",
    "        print(s[i].lower(),end='')\n",
    "    else:\n",
    "        print(s[i],end='')"
   ]
  },
  {
   "cell_type": "code",
   "execution_count": 16,
   "id": "21865ba8",
   "metadata": {},
   "outputs": [
    {
     "name": "stdout",
     "output_type": "stream",
     "text": [
      "pYtHoN"
     ]
    }
   ],
   "source": [
    "#4 Python program to convert only odd indexed characters to upper case\n",
    "\n",
    "s=\"python\"\n",
    "for i in range(len(s)):\n",
    "    if i%2==0:\n",
    "        print(s[i],end='')\n",
    "    else:\n",
    "        print(s[i].upper(),end='')"
   ]
  },
  {
   "cell_type": "code",
   "execution_count": 17,
   "id": "9b613cf9",
   "metadata": {},
   "outputs": [
    {
     "name": "stdout",
     "output_type": "stream",
     "text": [
      "PyThOn"
     ]
    }
   ],
   "source": [
    "#5 Python program to convert only even indexed characters to upper case\n",
    "\n",
    "s=\"python\"\n",
    "for i in range(len(s)):\n",
    "    if i%2==0:\n",
    "        print(s[i].upper(),end='')\n",
    "    else:\n",
    "        print(s[i],end='')"
   ]
  },
  {
   "cell_type": "code",
   "execution_count": 10,
   "id": "356aed5a",
   "metadata": {},
   "outputs": [
    {
     "name": "stdout",
     "output_type": "stream",
     "text": [
      "My name is Rasagna,My age is 22,My phone number is 9012345678,My father's name is Ravinder,My mother's name is Suvarna\n"
     ]
    }
   ],
   "source": [
    "#6 Python program to print bio-data\n",
    "\n",
    "name=\"Rasagna\"\n",
    "gender=\"female\"\n",
    "age=\"22\"\n",
    "phone=\"9012345678\"\n",
    "f_name=\"Ravinder\"\n",
    "m_name=\"Suvarna\"\n",
    "bio_data=print(\"My name is {},My age is {},My phone number is {},My father's name is {},My mother's name is {}\".format(name,age,phone,f_name,m_name))"
   ]
  },
  {
   "cell_type": "code",
   "execution_count": 18,
   "id": "80bc71c6",
   "metadata": {},
   "outputs": [
    {
     "data": {
      "text/plain": [
       "3"
      ]
     },
     "execution_count": 18,
     "metadata": {},
     "output_type": "execute_result"
    }
   ],
   "source": [
    "#7 Python program to count how many times \"@\" ooccured\n",
    "\n",
    "s=\"R@s@agn@\"\n",
    "s.count(\"@\")"
   ]
  },
  {
   "cell_type": "code",
   "execution_count": 16,
   "id": "0cd85587",
   "metadata": {},
   "outputs": [
    {
     "data": {
      "text/plain": [
       "'name1,name2,name3'"
      ]
     },
     "execution_count": 16,
     "metadata": {},
     "output_type": "execute_result"
    }
   ],
   "source": [
    "#8 Python program to get only names from the string\n",
    "\n",
    "s=\"name1.@gmail.com,name2.@gmail.com,name3.@gmail.com\"\n",
    "s.replace(\".@gmail.com\",\"\")"
   ]
  },
  {
   "cell_type": "code",
   "execution_count": 20,
   "id": "0e3e774c",
   "metadata": {},
   "outputs": [
    {
     "name": "stdout",
     "output_type": "stream",
     "text": [
      "bcdfghjklmnpqrstvwxyz"
     ]
    }
   ],
   "source": [
    "#9 Python program to remove vowels from the entire alphabet\n",
    "\n",
    "s=\"abcdefghijklmnopqrstuvwxyz\"\n",
    "v=('a','e','i','o','u')\n",
    "for i in range(len(s)):\n",
    "              if s[i] not in v:\n",
    "               print(s[i],end=\"\")"
   ]
  },
  {
   "cell_type": "code",
   "execution_count": 25,
   "id": "77104535",
   "metadata": {},
   "outputs": [
    {
     "name": "stdout",
     "output_type": "stream",
     "text": [
      "The innomatics count is: 2\n"
     ]
    }
   ],
   "source": [
    "#Finding all occurences of a substring in a given string by ignoring the case\n",
    "\n",
    "s=\"Welcome to Innomatics.innomatics awesome, isn't it?\"\n",
    "c=s.casefold()\n",
    "print(\"The innomatics count is:\",a.count(\"innomatics\"))"
   ]
  }
 ],
 "metadata": {
  "kernelspec": {
   "display_name": "Python 3 (ipykernel)",
   "language": "python",
   "name": "python3"
  },
  "language_info": {
   "codemirror_mode": {
    "name": "ipython",
    "version": 3
   },
   "file_extension": ".py",
   "mimetype": "text/x-python",
   "name": "python",
   "nbconvert_exporter": "python",
   "pygments_lexer": "ipython3",
   "version": "3.9.13"
  }
 },
 "nbformat": 4,
 "nbformat_minor": 5
}
