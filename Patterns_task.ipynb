{
 "cells": [
  {
   "cell_type": "markdown",
   "id": "4a1e87ab",
   "metadata": {},
   "source": [
    "### Python code to print the patterns."
   ]
  },
  {
   "cell_type": "markdown",
   "id": "7efdaacb",
   "metadata": {},
   "source": [
    "#### Pattern-1"
   ]
  },
  {
   "cell_type": "code",
   "execution_count": 41,
   "id": "9434f3d7",
   "metadata": {},
   "outputs": [
    {
     "name": "stdout",
     "output_type": "stream",
     "text": [
      "1  \n",
      "1 2  \n",
      "1 2 3  \n",
      "1 2 3 4  \n",
      "1 2 3 4 5  \n"
     ]
    }
   ],
   "source": [
    "n=5\n",
    "for i in range(1,n+1):\n",
    "    for j in range(1,i+1):\n",
    "        print(j,end=\" \")\n",
    "    print(\" \")   "
   ]
  },
  {
   "cell_type": "markdown",
   "id": "b9cdab25",
   "metadata": {},
   "source": [
    "#### Pattern-2"
   ]
  },
  {
   "cell_type": "code",
   "execution_count": 42,
   "id": "dcd7bb12",
   "metadata": {},
   "outputs": [
    {
     "name": "stdout",
     "output_type": "stream",
     "text": [
      "1  \n",
      "2 2  \n",
      "3 3 3  \n",
      "4 4 4 4  \n",
      "5 5 5 5 5  \n"
     ]
    }
   ],
   "source": [
    "n=5\n",
    "for i in range(1,n+1):\n",
    "    for j in range(1,i+1):\n",
    "        print(i,end=\" \")\n",
    "    print(\" \")"
   ]
  },
  {
   "cell_type": "markdown",
   "id": "d166eba2",
   "metadata": {},
   "source": [
    "#### Pattern-3"
   ]
  },
  {
   "cell_type": "code",
   "execution_count": 43,
   "id": "8fba6f95",
   "metadata": {},
   "outputs": [
    {
     "name": "stdout",
     "output_type": "stream",
     "text": [
      "* \n",
      "* * \n",
      "* * * \n",
      "* * * * \n",
      "* * * * * \n"
     ]
    }
   ],
   "source": [
    "n=5\n",
    "for i in range(1,n+1):\n",
    "    print(\"* \"*i)"
   ]
  },
  {
   "cell_type": "markdown",
   "id": "f4bbd967",
   "metadata": {},
   "source": [
    "#### Pattern-4"
   ]
  },
  {
   "cell_type": "code",
   "execution_count": 52,
   "id": "1ab1072d",
   "metadata": {},
   "outputs": [
    {
     "name": "stdout",
     "output_type": "stream",
     "text": [
      "5 4 3 2 1  \n",
      "4 3 2 1  \n",
      "3 2 1  \n",
      "2 1  \n",
      "1  \n",
      " \n"
     ]
    }
   ],
   "source": [
    "n=5\n",
    "for i in range(0,n+1):\n",
    "    for j in range(n-i,0,-1):\n",
    "        print(j,end=\" \")\n",
    "    print(\" \")"
   ]
  },
  {
   "cell_type": "markdown",
   "id": "876fab4e",
   "metadata": {},
   "source": [
    "#### Pattern-5"
   ]
  },
  {
   "cell_type": "code",
   "execution_count": 56,
   "id": "a7fae8a1",
   "metadata": {},
   "outputs": [
    {
     "name": "stdout",
     "output_type": "stream",
     "text": [
      "5 5 5 5 5  \n",
      "4 4 4 4  \n",
      "3 3 3  \n",
      "2 2  \n",
      "1  \n"
     ]
    }
   ],
   "source": [
    "n=5\n",
    "for i in range(n,0,-1):\n",
    "    n=i\n",
    "    for j in range(0,i):\n",
    "        print(n,end=\" \")\n",
    "    print(\" \")   "
   ]
  },
  {
   "cell_type": "markdown",
   "id": "eb68eb38",
   "metadata": {},
   "source": [
    "#### Pattern-6"
   ]
  },
  {
   "cell_type": "code",
   "execution_count": 57,
   "id": "9baf350a",
   "metadata": {},
   "outputs": [
    {
     "name": "stdout",
     "output_type": "stream",
     "text": [
      "* * * * * \n",
      "* * * * \n",
      "* * * \n",
      "* * \n",
      "* \n"
     ]
    }
   ],
   "source": [
    "n=5\n",
    "for i in range(n,0,-1):\n",
    "    print(\"* \"*i)"
   ]
  },
  {
   "cell_type": "markdown",
   "id": "8cfc596f",
   "metadata": {},
   "source": [
    "#### Pattern-7"
   ]
  },
  {
   "cell_type": "code",
   "execution_count": 69,
   "id": "56dc2569",
   "metadata": {},
   "outputs": [
    {
     "name": "stdout",
     "output_type": "stream",
     "text": [
      "1 \n",
      "2 3 \n",
      "4 5 6 \n",
      "7 8 9 10 \n"
     ]
    }
   ],
   "source": [
    "r=4\n",
    "n=1\n",
    "for i in range(1,r+1):\n",
    "    for j in range(1,i+1):\n",
    "        print(n,end=\" \")\n",
    "        n+=1\n",
    "    print()"
   ]
  },
  {
   "cell_type": "markdown",
   "id": "fdfbce21",
   "metadata": {},
   "source": [
    "#### Pattern-8"
   ]
  },
  {
   "cell_type": "code",
   "execution_count": 81,
   "id": "c35d9e6c",
   "metadata": {},
   "outputs": [
    {
     "name": "stdout",
     "output_type": "stream",
     "text": [
      "            \n",
      "           *  \n",
      "         *   *  \n",
      "       *   *   *  \n",
      "     *   *   *   *  \n",
      "   *   *   *   *   *  \n"
     ]
    }
   ],
   "source": [
    "for i in range(6):\n",
    "    for j in range(6-i):\n",
    "         print(\"  \",end=\"\")  \n",
    "    for k in range(i):\n",
    "         print(\" *  \",end=\"\")\n",
    "    print()    "
   ]
  }
 ],
 "metadata": {
  "kernelspec": {
   "display_name": "Python 3 (ipykernel)",
   "language": "python",
   "name": "python3"
  },
  "language_info": {
   "codemirror_mode": {
    "name": "ipython",
    "version": 3
   },
   "file_extension": ".py",
   "mimetype": "text/x-python",
   "name": "python",
   "nbconvert_exporter": "python",
   "pygments_lexer": "ipython3",
   "version": "3.9.13"
  }
 },
 "nbformat": 4,
 "nbformat_minor": 5
}
