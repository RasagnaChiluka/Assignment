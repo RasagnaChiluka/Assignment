{
 "cells": [
  {
   "cell_type": "markdown",
   "id": "6495a0f7",
   "metadata": {},
   "source": [
    "#### 1. Python program to sum all the items and multiply all the items."
   ]
  },
  {
   "cell_type": "code",
   "execution_count": 5,
   "id": "5779a762",
   "metadata": {},
   "outputs": [
    {
     "name": "stdout",
     "output_type": "stream",
     "text": [
      "Sum of all items in list:  43\n",
      "Product of all items in list:  4256\n"
     ]
    }
   ],
   "source": [
    "l=[2,8,14,19]\n",
    "sum_list=0\n",
    "for i in l:\n",
    "    sum_list=sum_list+i\n",
    "print(\"Sum of all items in list: \",sum_list)\n",
    "mul_list=1\n",
    "for j in l:\n",
    "    mul_list=mul_list*j\n",
    "print(\"Product of all items in list: \",mul_list)    "
   ]
  },
  {
   "cell_type": "markdown",
   "id": "adcae1a2",
   "metadata": {},
   "source": [
    "#### 2. Python function that takes two lists and returns True if they have atleast one common member."
   ]
  },
  {
   "cell_type": "code",
   "execution_count": 22,
   "id": "6e47f592",
   "metadata": {},
   "outputs": [
    {
     "name": "stdout",
     "output_type": "stream",
     "text": [
      "True\n",
      "None\n"
     ]
    }
   ],
   "source": [
    "def com(l1,l2):\n",
    "    for i in l1:\n",
    "        for j in l2:\n",
    "            if i==j:\n",
    "                return True\n",
    "                return None\n",
    "print(com([1,2,3,4],[4,5,6,7])) \n",
    "print(com([1,2,3,4],[5,6,7,8]))"
   ]
  },
  {
   "cell_type": "markdown",
   "id": "7b7ab55d",
   "metadata": {},
   "source": [
    "#### 3.Python program to compute the difference between two lists."
   ]
  },
  {
   "cell_type": "code",
   "execution_count": 27,
   "id": "13da6141",
   "metadata": {},
   "outputs": [
    {
     "name": "stdout",
     "output_type": "stream",
     "text": [
      "Color1-Color2: ['orange', 'red', 'white']\n",
      "Color2-Color1 ['black', 'yellow']\n"
     ]
    }
   ],
   "source": [
    "def diff(l1,l2):\n",
    "    a=list(set(l1)-set(l2))\n",
    "    b=list(set(l2)-set(l1))\n",
    "    print(\"Color1-Color2:\",a)\n",
    "    print(\"Color2-Color1\",b)\n",
    "diff([\"red\",\"orange\",\"green\",\"blue\",\"white\"],[\"black\",\"yellow\",\"green\",\"blue\"])    "
   ]
  }
 ],
 "metadata": {
  "kernelspec": {
   "display_name": "Python 3 (ipykernel)",
   "language": "python",
   "name": "python3"
  },
  "language_info": {
   "codemirror_mode": {
    "name": "ipython",
    "version": 3
   },
   "file_extension": ".py",
   "mimetype": "text/x-python",
   "name": "python",
   "nbconvert_exporter": "python",
   "pygments_lexer": "ipython3",
   "version": "3.9.13"
  }
 },
 "nbformat": 4,
 "nbformat_minor": 5
}
