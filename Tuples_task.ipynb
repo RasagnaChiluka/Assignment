{
 "cells": [
  {
   "cell_type": "markdown",
   "id": "0b4c0673",
   "metadata": {},
   "source": [
    "#### 1. Finding frequency of elements in tuple."
   ]
  },
  {
   "cell_type": "code",
   "execution_count": 3,
   "id": "b9391899",
   "metadata": {},
   "outputs": [
    {
     "data": {
      "text/plain": [
       "{4: 2, 5: 3, 6: 2}"
      ]
     },
     "execution_count": 3,
     "metadata": {},
     "output_type": "execute_result"
    }
   ],
   "source": [
    "t=(4,5,4,5,6,6,5)\n",
    "f={}\n",
    "for i in t:\n",
    "    f[i]=t.count(i)\n",
    "f    "
   ]
  },
  {
   "cell_type": "markdown",
   "id": "1e2f7fbb",
   "metadata": {},
   "source": [
    "#### 2. Python program to sort a list of tuples  alphabetically."
   ]
  },
  {
   "cell_type": "code",
   "execution_count": 5,
   "id": "b47b631f",
   "metadata": {},
   "outputs": [
    {
     "data": {
      "text/plain": [
       "[('aa', 30), ('aaaa', 28), ('bab', 29), ('bb', 21), ('csa', 'C')]"
      ]
     },
     "execution_count": 5,
     "metadata": {},
     "output_type": "execute_result"
    }
   ],
   "source": [
    "a=[(\"aaaa\",28),(\"aa\",30),(\"bab\",29),(\"bb\",21),(\"csa\",\"C\")]\n",
    "a.sort()\n",
    "a"
   ]
  },
  {
   "cell_type": "markdown",
   "id": "790602aa",
   "metadata": {},
   "source": [
    "#### 3. Python program to calculate the average value of the numbers in a given tuple of tuples."
   ]
  },
  {
   "cell_type": "code",
   "execution_count": 22,
   "id": "d66886e3",
   "metadata": {},
   "outputs": [
    {
     "name": "stdout",
     "output_type": "stream",
     "text": [
      "Average value of the said tuple of tuples: [25.5, -18.0, 3.75]\n"
     ]
    }
   ],
   "source": [
    "t=((1,1,-5),(30,-15,56),(81,-60,-39),(-10,2,3))\n",
    "avg=[a1,a2,a3]\n",
    "a1=0\n",
    "a2=0\n",
    "a3=0\n",
    "for i in t:\n",
    "    a1+=i[0]/len(t)\n",
    "    a2+=i[1]/len(t)\n",
    "    a3+=i[2]/len(t)\n",
    "print(\"Average value of the said tuple of tuples:\",avg)    "
   ]
  }
 ],
 "metadata": {
  "kernelspec": {
   "display_name": "Python 3 (ipykernel)",
   "language": "python",
   "name": "python3"
  },
  "language_info": {
   "codemirror_mode": {
    "name": "ipython",
    "version": 3
   },
   "file_extension": ".py",
   "mimetype": "text/x-python",
   "name": "python",
   "nbconvert_exporter": "python",
   "pygments_lexer": "ipython3",
   "version": "3.9.13"
  }
 },
 "nbformat": 4,
 "nbformat_minor": 5
}
